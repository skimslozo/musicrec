{
 "cells": [
  {
   "cell_type": "code",
   "execution_count": 13,
   "metadata": {},
   "outputs": [],
   "source": [
    "import pickle\n",
    "import matplotlib.pyplot as plt\n",
    "import seaborn as sns\n",
    "import pandas as pd\n",
    "import os\n",
    "import numpy as np"
   ]
  },
  {
   "cell_type": "code",
   "execution_count": 14,
   "metadata": {},
   "outputs": [
    {
     "data": {
      "text/plain": [
       "['211215003941_5_50_5.pickle',\n",
       " '211214235813_100_50_50.pickle',\n",
       " '211215203346_50_50_50.pickle',\n",
       " 'temp_vs_reward.pkl',\n",
       " '211215032311_500_50_50.pickle',\n",
       " '211215212633_50_200_50.pickle',\n",
       " '211215000850_100_50_50.pickle',\n",
       " '211215001435_100_50_50.pickle',\n",
       " '211215001846_10_50_5.pickle',\n",
       " '211216034736_50_400_50.pickle',\n",
       " '211215223129_50_200_50.pickle']"
      ]
     },
     "execution_count": 14,
     "metadata": {},
     "output_type": "execute_result"
    }
   ],
   "source": [
    "args = {\n",
    "    'batch_size': 16,\n",
    "    'numIters': 50,                                # Total number of training iterations\n",
    "    'num_simulations': 200,                         # Total number of MCTS simulations to run when deciding on a move to play\n",
    "    'numEps': 50,                                  # Number of full games (episodes) to run during each iteration\n",
    "    'numItersForTrainExamplesHistory': 20,\n",
    "    'epochs': 2,                                    # Number of epochs of training per iteration\n",
    "    'checkpoint_path': 'latest.pth'                 # location to save latest set of weights\n",
    "}\n",
    "\n",
    "filepath = '·/data'\n",
    "files = os.listdir('./data')\n",
    "files"
   ]
  },
  {
   "cell_type": "code",
   "execution_count": 22,
   "metadata": {},
   "outputs": [],
   "source": [
    "sns.set_context('poster')\n",
    "sns.set_style('ticks')\n",
    "with open('./data/'+files[-2], 'rb') as handle:\n",
    "    data_in = pickle.load(handle)\n",
    "data_in = pd.DataFrame.from_dict(data_in)\n",
    "data_in['MCTS'] = np.average(data_in['MCTS'])\n",
    "data_in['RANDOM'] = np.average(data_in['RANDOM'])"
   ]
  },
  {
   "cell_type": "code",
   "execution_count": 23,
   "metadata": {},
   "outputs": [],
   "source": [
    "cols = list(data_in.columns)\n",
    "cols = cols[1:]\n",
    "cols.append(data_in.columns[0])\n",
    "data_in = data_in[cols]\n",
    "%matplotlib qt\n",
    "xlab = \"Number of evaluation iterations, [-]\"\n",
    "ylab = \"Cumulative score of the generated playlist, [-]\"\n",
    "string_title = \"Playlist cumulative scores per policy, numSims = 400, numEpisodes = 50, $|\\mathcal{A}|=200$\"\n",
    "sns.lineplot(data = data_in, palette='muted')\n",
    "sns.despine()\n",
    "plt.xlabel('Number of learning iterations')\n",
    "plt.ylabel('Reward of the generated playlist')\n",
    "plt.title(string_title)\n",
    "plt.show()"
   ]
  },
  {
   "cell_type": "code",
   "execution_count": 67,
   "metadata": {},
   "outputs": [
    {
     "data": {
      "text/html": [
       "<div>\n",
       "<style scoped>\n",
       "    .dataframe tbody tr th:only-of-type {\n",
       "        vertical-align: middle;\n",
       "    }\n",
       "\n",
       "    .dataframe tbody tr th {\n",
       "        vertical-align: top;\n",
       "    }\n",
       "\n",
       "    .dataframe thead th {\n",
       "        text-align: right;\n",
       "    }\n",
       "</style>\n",
       "<table border=\"1\" class=\"dataframe\">\n",
       "  <thead>\n",
       "    <tr style=\"text-align: right;\">\n",
       "      <th></th>\n",
       "      <th>MCTS_DL</th>\n",
       "      <th>GREEDY</th>\n",
       "      <th>RANDOM</th>\n",
       "      <th>MCTS</th>\n",
       "    </tr>\n",
       "  </thead>\n",
       "  <tbody>\n",
       "    <tr>\n",
       "      <th>0</th>\n",
       "      <td>51.667020</td>\n",
       "      <td>58.687283</td>\n",
       "      <td>52.595708</td>\n",
       "      <td>59.721046</td>\n",
       "    </tr>\n",
       "    <tr>\n",
       "      <th>1</th>\n",
       "      <td>55.013261</td>\n",
       "      <td>58.687283</td>\n",
       "      <td>52.595708</td>\n",
       "      <td>59.721046</td>\n",
       "    </tr>\n",
       "    <tr>\n",
       "      <th>2</th>\n",
       "      <td>54.593374</td>\n",
       "      <td>58.687283</td>\n",
       "      <td>52.595708</td>\n",
       "      <td>59.721046</td>\n",
       "    </tr>\n",
       "    <tr>\n",
       "      <th>3</th>\n",
       "      <td>57.667391</td>\n",
       "      <td>58.687283</td>\n",
       "      <td>52.595708</td>\n",
       "      <td>59.721046</td>\n",
       "    </tr>\n",
       "    <tr>\n",
       "      <th>4</th>\n",
       "      <td>58.817769</td>\n",
       "      <td>58.687283</td>\n",
       "      <td>52.595708</td>\n",
       "      <td>59.721046</td>\n",
       "    </tr>\n",
       "  </tbody>\n",
       "</table>\n",
       "</div>"
      ],
      "text/plain": [
       "     MCTS_DL     GREEDY     RANDOM       MCTS\n",
       "0  51.667020  58.687283  52.595708  59.721046\n",
       "1  55.013261  58.687283  52.595708  59.721046\n",
       "2  54.593374  58.687283  52.595708  59.721046\n",
       "3  57.667391  58.687283  52.595708  59.721046\n",
       "4  58.817769  58.687283  52.595708  59.721046"
      ]
     },
     "execution_count": 67,
     "metadata": {},
     "output_type": "execute_result"
    }
   ],
   "source": [
    "data_in.head()\n"
   ]
  },
  {
   "cell_type": "code",
   "execution_count": null,
   "metadata": {},
   "outputs": [],
   "source": []
  }
 ],
 "metadata": {
  "interpreter": {
   "hash": "64f8dd21f724f798299edfa89f3a551b44fe920473b39027d4605ebe2f9711b5"
  },
  "kernelspec": {
   "display_name": "Python 3.8.5 64-bit ('base': conda)",
   "language": "python",
   "name": "python3"
  },
  "language_info": {
   "codemirror_mode": {
    "name": "ipython",
    "version": 3
   },
   "file_extension": ".py",
   "mimetype": "text/x-python",
   "name": "python",
   "nbconvert_exporter": "python",
   "pygments_lexer": "ipython3",
   "version": "3.8.5"
  },
  "orig_nbformat": 4
 },
 "nbformat": 4,
 "nbformat_minor": 2
}
